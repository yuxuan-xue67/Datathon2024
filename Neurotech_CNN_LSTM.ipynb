{
  "cells": [
    {
      "cell_type": "code",
      "execution_count": null,
      "metadata": {
        "id": "Z-oYXkHnTIEK"
      },
      "outputs": [],
      "source": [
        "import matplotlib.pyplot as plt\n",
        "import numpy as np\n",
        "import os\n",
        "import pandas as pd\n",
        "import numpy as np\n",
        "\n",
        "from PIL import Image, ImageOps\n",
        "import os\n",
        "\n",
        "import torch\n",
        "from torch.utils.data import Dataset, DataLoader\n",
        "import torchvision\n",
        "from torchvision import transforms\n",
        "import torch.nn as nn\n",
        "import torch.optim as optim\n",
        "import torch.nn.functional as F\n",
        "import tensorflow as tf\n",
        "\n",
        "from tensorflow.keras.models import Sequential\n",
        "from tensorflow.keras.layers import Dense, Conv1D, MaxPooling1D, Flatten, LSTM, Dropout, Reshape, GlobalAveragePooling1D\n",
        "\n",
        "from collections import defaultdict"
      ]
    },
    {
      "cell_type": "code",
      "execution_count": null,
      "metadata": {
        "colab": {
          "base_uri": "https://localhost:8080/"
        },
        "id": "NZ2OrnEhTIbW",
        "outputId": "59d243a2-94d5-43b8-f4cf-cb783671d57b"
      },
      "outputs": [
        {
          "output_type": "stream",
          "name": "stdout",
          "text": [
            "Mounted at /content/drive\n"
          ]
        }
      ],
      "source": [
        "from google.colab import drive\n",
        "drive.mount('/content/drive', force_remount=True)"
      ]
    },
    {
      "cell_type": "code",
      "execution_count": null,
      "metadata": {
        "id": "DDvRvUkSS4pn"
      },
      "outputs": [],
      "source": [
        "X_train = np.load('/content/drive/My Drive/Datathon 2024/Neurotech@Rice Datathon Challenge/Training [NEW]/p00_n1_NEW_X.npy')\n",
        "y_train = np.load('/content/drive/My Drive/Datathon 2024/Neurotech@Rice Datathon Challenge/Training [NEW]/p00_n1_NEW_y.npy')"
      ]
    },
    {
      "cell_type": "code",
      "execution_count": null,
      "metadata": {
        "id": "sBu3B9M4WDbK"
      },
      "outputs": [],
      "source": [
        "eval_a_X = np.load('/content/drive/My Drive/Datathon 2024/Neurotech@Rice Datathon Challenge/Evaluation/eval_a_X.npy')\n",
        "eval_b_X = np.load('/content/drive/My Drive/Datathon 2024/Neurotech@Rice Datathon Challenge/Evaluation/eval_b_X.npy')"
      ]
    },
    {
      "cell_type": "code",
      "execution_count": null,
      "metadata": {
        "colab": {
          "base_uri": "https://localhost:8080/",
          "height": 53
        },
        "id": "WC-2vqvnW3I6",
        "outputId": "1efe3034-8406-46c6-8738-38736be53bf0"
      },
      "outputs": [
        {
          "data": {
            "text/plain": [
              "(2790, 6, 3000)"
            ]
          },
          "metadata": {},
          "output_type": "display_data"
        },
        {
          "data": {
            "text/plain": [
              "(2728, 6, 3000)"
            ]
          },
          "metadata": {},
          "output_type": "display_data"
        }
      ],
      "source": [
        "display(eval_a_X.shape)\n",
        "display(eval_b_X.shape)"
      ]
    },
    {
      "cell_type": "code",
      "execution_count": null,
      "metadata": {
        "id": "EjLcr63JUcmx",
        "colab": {
          "base_uri": "https://localhost:8080/",
          "height": 248
        },
        "outputId": "30d79c72-f5f2-4947-aeb5-d5de7c0b3f68"
      },
      "outputs": [
        {
          "output_type": "error",
          "ename": "FileNotFoundError",
          "evalue": "[Errno 2] No such file or directory: '/content/drive/My Drive/Datathon 2024/Neurotech@Rice Datathon Challenge/Training'",
          "traceback": [
            "\u001b[0;31m---------------------------------------------------------------------------\u001b[0m",
            "\u001b[0;31mFileNotFoundError\u001b[0m                         Traceback (most recent call last)",
            "\u001b[0;32m<ipython-input-45-cc90c7a0a84f>\u001b[0m in \u001b[0;36m<cell line: 10>\u001b[0;34m()\u001b[0m\n\u001b[1;32m      8\u001b[0m \u001b[0;34m\u001b[0m\u001b[0m\n\u001b[1;32m      9\u001b[0m \u001b[0;31m# Iterate through each file in the directory\u001b[0m\u001b[0;34m\u001b[0m\u001b[0;34m\u001b[0m\u001b[0m\n\u001b[0;32m---> 10\u001b[0;31m \u001b[0;32mfor\u001b[0m \u001b[0mfile\u001b[0m \u001b[0;32min\u001b[0m \u001b[0mos\u001b[0m\u001b[0;34m.\u001b[0m\u001b[0mlistdir\u001b[0m\u001b[0;34m(\u001b[0m\u001b[0mtrain_path\u001b[0m\u001b[0;34m)\u001b[0m\u001b[0;34m:\u001b[0m\u001b[0;34m\u001b[0m\u001b[0;34m\u001b[0m\u001b[0m\n\u001b[0m\u001b[1;32m     11\u001b[0m     \u001b[0;32mif\u001b[0m \u001b[0mfile\u001b[0m\u001b[0;34m.\u001b[0m\u001b[0mendswith\u001b[0m\u001b[0;34m(\u001b[0m\u001b[0;34m'.npy'\u001b[0m\u001b[0;34m)\u001b[0m \u001b[0;32mand\u001b[0m \u001b[0many\u001b[0m\u001b[0;34m(\u001b[0m\u001b[0mpattern\u001b[0m \u001b[0;32min\u001b[0m \u001b[0mfile\u001b[0m \u001b[0;32mfor\u001b[0m \u001b[0mpattern\u001b[0m \u001b[0;32min\u001b[0m \u001b[0minclude_patterns\u001b[0m\u001b[0;34m)\u001b[0m\u001b[0;34m:\u001b[0m\u001b[0;34m\u001b[0m\u001b[0;34m\u001b[0m\u001b[0m\n\u001b[1;32m     12\u001b[0m         \u001b[0;31m# Construct the full file path\u001b[0m\u001b[0;34m\u001b[0m\u001b[0;34m\u001b[0m\u001b[0m\n",
            "\u001b[0;31mFileNotFoundError\u001b[0m: [Errno 2] No such file or directory: '/content/drive/My Drive/Datathon 2024/Neurotech@Rice Datathon Challenge/Training'"
          ]
        }
      ],
      "source": [
        "train_path = '/content/drive/My Drive/Datathon 2024/Neurotech@Rice Datathon Challenge/Training'\n",
        "\n",
        "# List of patterns to include\n",
        "include_patterns = ['p00', 'p01', 'p02']\n",
        "\n",
        "# Dictionary to hold your data\n",
        "data = {}\n",
        "\n",
        "# Iterate through each file in the directory\n",
        "for file in os.listdir(train_path):\n",
        "    if file.endswith('.npy') and any(pattern in file for pattern in include_patterns):\n",
        "        # Construct the full file path\n",
        "        file_path = os.path.join(train_path, file)\n",
        "\n",
        "        # Load the .npy file\n",
        "        data[file.split('.')[0]] = np.load(file_path)"
      ]
    },
    {
      "cell_type": "code",
      "execution_count": null,
      "metadata": {
        "id": "NMlQzGpCyhYQ",
        "colab": {
          "base_uri": "https://localhost:8080/",
          "height": 394
        },
        "outputId": "a8c38dbf-b1c4-4ea0-a7a0-613e79418408"
      },
      "outputs": [
        {
          "output_type": "error",
          "ename": "TypeError",
          "evalue": "unhashable type: 'numpy.ndarray'",
          "traceback": [
            "\u001b[0;31m---------------------------------------------------------------------------\u001b[0m",
            "\u001b[0;31mTypeError\u001b[0m                                 Traceback (most recent call last)",
            "\u001b[0;32m<ipython-input-92-6c683b60dd20>\u001b[0m in \u001b[0;36m<cell line: 4>\u001b[0;34m()\u001b[0m\n\u001b[1;32m      2\u001b[0m \u001b[0;34m\u001b[0m\u001b[0m\n\u001b[1;32m      3\u001b[0m \u001b[0;31m# Find the count of the next most frequent class\u001b[0m\u001b[0;34m\u001b[0m\u001b[0;34m\u001b[0m\u001b[0m\n\u001b[0;32m----> 4\u001b[0;31m \u001b[0mclass_distribution\u001b[0m \u001b[0;34m=\u001b[0m \u001b[0mCounter\u001b[0m\u001b[0;34m(\u001b[0m\u001b[0mX_train\u001b[0m\u001b[0;34m)\u001b[0m\u001b[0;34m\u001b[0m\u001b[0;34m\u001b[0m\u001b[0m\n\u001b[0m\u001b[1;32m      5\u001b[0m \u001b[0mmost_common_classes\u001b[0m \u001b[0;34m=\u001b[0m \u001b[0mclass_distribution\u001b[0m\u001b[0;34m.\u001b[0m\u001b[0mmost_common\u001b[0m\u001b[0;34m(\u001b[0m\u001b[0;34m)\u001b[0m\u001b[0;34m\u001b[0m\u001b[0;34m\u001b[0m\u001b[0m\n\u001b[1;32m      6\u001b[0m \u001b[0mnext_most_common_count\u001b[0m \u001b[0;34m=\u001b[0m \u001b[0mmost_common_classes\u001b[0m\u001b[0;34m[\u001b[0m\u001b[0;36m1\u001b[0m\u001b[0;34m]\u001b[0m\u001b[0;34m[\u001b[0m\u001b[0;36m1\u001b[0m\u001b[0;34m]\u001b[0m\u001b[0;34m\u001b[0m\u001b[0;34m\u001b[0m\u001b[0m\n",
            "\u001b[0;32m/usr/lib/python3.10/collections/__init__.py\u001b[0m in \u001b[0;36m__init__\u001b[0;34m(self, iterable, **kwds)\u001b[0m\n\u001b[1;32m    575\u001b[0m         '''\n\u001b[1;32m    576\u001b[0m         \u001b[0msuper\u001b[0m\u001b[0;34m(\u001b[0m\u001b[0;34m)\u001b[0m\u001b[0;34m.\u001b[0m\u001b[0m__init__\u001b[0m\u001b[0;34m(\u001b[0m\u001b[0;34m)\u001b[0m\u001b[0;34m\u001b[0m\u001b[0;34m\u001b[0m\u001b[0m\n\u001b[0;32m--> 577\u001b[0;31m         \u001b[0mself\u001b[0m\u001b[0;34m.\u001b[0m\u001b[0mupdate\u001b[0m\u001b[0;34m(\u001b[0m\u001b[0miterable\u001b[0m\u001b[0;34m,\u001b[0m \u001b[0;34m**\u001b[0m\u001b[0mkwds\u001b[0m\u001b[0;34m)\u001b[0m\u001b[0;34m\u001b[0m\u001b[0;34m\u001b[0m\u001b[0m\n\u001b[0m\u001b[1;32m    578\u001b[0m \u001b[0;34m\u001b[0m\u001b[0m\n\u001b[1;32m    579\u001b[0m     \u001b[0;32mdef\u001b[0m \u001b[0m__missing__\u001b[0m\u001b[0;34m(\u001b[0m\u001b[0mself\u001b[0m\u001b[0;34m,\u001b[0m \u001b[0mkey\u001b[0m\u001b[0;34m)\u001b[0m\u001b[0;34m:\u001b[0m\u001b[0;34m\u001b[0m\u001b[0;34m\u001b[0m\u001b[0m\n",
            "\u001b[0;32m/usr/lib/python3.10/collections/__init__.py\u001b[0m in \u001b[0;36mupdate\u001b[0;34m(self, iterable, **kwds)\u001b[0m\n\u001b[1;32m    668\u001b[0m                     \u001b[0msuper\u001b[0m\u001b[0;34m(\u001b[0m\u001b[0;34m)\u001b[0m\u001b[0;34m.\u001b[0m\u001b[0mupdate\u001b[0m\u001b[0;34m(\u001b[0m\u001b[0miterable\u001b[0m\u001b[0;34m)\u001b[0m\u001b[0;34m\u001b[0m\u001b[0;34m\u001b[0m\u001b[0m\n\u001b[1;32m    669\u001b[0m             \u001b[0;32melse\u001b[0m\u001b[0;34m:\u001b[0m\u001b[0;34m\u001b[0m\u001b[0;34m\u001b[0m\u001b[0m\n\u001b[0;32m--> 670\u001b[0;31m                 \u001b[0m_count_elements\u001b[0m\u001b[0;34m(\u001b[0m\u001b[0mself\u001b[0m\u001b[0;34m,\u001b[0m \u001b[0miterable\u001b[0m\u001b[0;34m)\u001b[0m\u001b[0;34m\u001b[0m\u001b[0;34m\u001b[0m\u001b[0m\n\u001b[0m\u001b[1;32m    671\u001b[0m         \u001b[0;32mif\u001b[0m \u001b[0mkwds\u001b[0m\u001b[0;34m:\u001b[0m\u001b[0;34m\u001b[0m\u001b[0;34m\u001b[0m\u001b[0m\n\u001b[1;32m    672\u001b[0m             \u001b[0mself\u001b[0m\u001b[0;34m.\u001b[0m\u001b[0mupdate\u001b[0m\u001b[0;34m(\u001b[0m\u001b[0mkwds\u001b[0m\u001b[0;34m)\u001b[0m\u001b[0;34m\u001b[0m\u001b[0;34m\u001b[0m\u001b[0m\n",
            "\u001b[0;31mTypeError\u001b[0m: unhashable type: 'numpy.ndarray'"
          ]
        }
      ],
      "source": [
        "from collections import Counter\n",
        "\n",
        "# Find the count of the next most frequent class\n",
        "class_distribution = Counter(X_train)\n",
        "most_common_classes = class_distribution.most_common()\n",
        "next_most_common_count = most_common_classes[1][1]\n",
        "\n",
        "# Number of samples to keep from class '1'\n",
        "n_samples_to_keep = next_most_common_count\n",
        "# Indices of class '1' and other classes\n",
        "indices_class_1 = np.where(y == 1)[0]\n",
        "indices_other_classes = np.where(y != 1)[0]\n",
        "\n",
        "# Randomly select samples from class '1'\n",
        "np.random.shuffle(indices_class_1)\n",
        "indices_class_1_downsampled = indices_class_1[:n_samples_to_keep]\n",
        "\n",
        "# Combine and shuffle indices\n",
        "downsampled_indices = np.concatenate([indices_class_1_downsampled, indices_other_classes])\n",
        "np.random.shuffle(downsampled_indices)\n",
        "\n",
        "# Create the downsampled dataset\n",
        "X_downsampled = X[downsampled_indices]\n",
        "y_downsampled = y[downsampled_indices]\n",
        "\n",
        "# Checking the new distribution\n",
        "new_class_distribution = Counter(y_downsampled)\n",
        "print(\"Class Distribution after under-sampling:\", new_class_distribution)"
      ]
    },
    {
      "cell_type": "code",
      "execution_count": null,
      "metadata": {
        "id": "1qiKYJqPcCqh"
      },
      "outputs": [],
      "source": [
        "p00_n1_X = np.load('/content/drive/My Drive/Datathon 2024/Neurotech@Rice Datathon Challenge/Training/p00_n1_X.npy')\n",
        "p00_n1_y = np.load('/content/drive/My Drive/Datathon 2024/Neurotech@Rice Datathon Challenge/Training/p00_n1_y.npy')\n",
        "p00_n2_X = np.load('/content/drive/My Drive/Datathon 2024/Neurotech@Rice Datathon Challenge/Training/p00_n2_X.npy')\n",
        "p00_n2_y = np.load('/content/drive/My Drive/Datathon 2024/Neurotech@Rice Datathon Challenge/Training/p00_n2_y.npy')"
      ]
    },
    {
      "cell_type": "code",
      "execution_count": null,
      "metadata": {
        "colab": {
          "base_uri": "https://localhost:8080/"
        },
        "id": "8ppnxEWs0bxo",
        "outputId": "d933bdfb-956a-47fa-857c-09877b484a26"
      },
      "outputs": [
        {
          "output_type": "stream",
          "name": "stdout",
          "text": [
            "Model: \"sequential_41\"\n",
            "_________________________________________________________________\n",
            " Layer (type)                Output Shape              Param #   \n",
            "=================================================================\n",
            " conv1d_42 (Conv1D)          (None, 6, 64)             576064    \n",
            "                                                                 \n",
            " max_pooling1d_35 (MaxPooli  (None, 3, 64)             0         \n",
            " ng1D)                                                           \n",
            "                                                                 \n",
            " conv1d_43 (Conv1D)          (None, 3, 128)            24704     \n",
            "                                                                 \n",
            " max_pooling1d_36 (MaxPooli  (None, 1, 128)            0         \n",
            " ng1D)                                                           \n",
            "                                                                 \n",
            " flatten_30 (Flatten)        (None, 128)               0         \n",
            "                                                                 \n",
            " reshape_1 (Reshape)         (None, 128, 1)            0         \n",
            "                                                                 \n",
            " lstm_1 (LSTM)               (None, 100)               40800     \n",
            "                                                                 \n",
            " dense_59 (Dense)            (None, 7)                 707       \n",
            "                                                                 \n",
            "=================================================================\n",
            "Total params: 642275 (2.45 MB)\n",
            "Trainable params: 642275 (2.45 MB)\n",
            "Non-trainable params: 0 (0.00 Byte)\n",
            "_________________________________________________________________\n"
          ]
        }
      ],
      "source": [
        "input_shape = (6, 3000)  # Modify as needed\n",
        "\n",
        "model = Sequential()\n",
        "\n",
        "# Adjusted first convolutional layer with padding\n",
        "model.add(Conv1D(filters=64, kernel_size=3, activation='relu', input_shape=input_shape, padding='same'))\n",
        "model.add(MaxPooling1D(pool_size=2))\n",
        "\n",
        "# Adjusted second convolutional layer with padding\n",
        "model.add(Conv1D(filters=128, kernel_size=3, activation='relu', padding='same'))\n",
        "model.add(MaxPooling1D(pool_size=2))\n",
        "\n",
        "# Flatten and LSTM layers remain the same\n",
        "model.add(Flatten())\n",
        "\n",
        "# Reshape the data before passing it to the LSTM layer\n",
        "model.add(Reshape((128, 1)))\n",
        "\n",
        "model.add(LSTM(100, activation='relu'))\n",
        "model.add(Dense(7, activation='softmax'))  # Assuming 7 classes for sleep stages\n",
        "\n",
        "model.compile(optimizer='adam', loss='categorical_crossentropy', metrics=['accuracy'])\n",
        "\n",
        "model.summary()"
      ]
    },
    {
      "cell_type": "code",
      "execution_count": null,
      "metadata": {
        "id": "t8VfNaIZ4ogV"
      },
      "outputs": [],
      "source": [
        "import numpy as np\n",
        "from sklearn.preprocessing import StandardScaler\n",
        "\n",
        "def load_and_preprocess(file_x, file_y):\n",
        "    # Load data\n",
        "    X = np.load(file_x)\n",
        "    y = np.load(file_y)\n",
        "\n",
        "    # Reshape X if necessary (depends on your model's input requirements)\n",
        "    # For example, if using a CNN with channels last, you might reshape like so:\n",
        "    # X = X.transpose((0, 2, 1))\n",
        "\n",
        "    # Normalize data\n",
        "    # Flatten the epochs and channels for normalization then reshape back\n",
        "    original_shape = X.shape\n",
        "    X_flattened = X.reshape(-1, X.shape[-1])\n",
        "    scaler = StandardScaler()\n",
        "    X_normalized = scaler.fit_transform(X_flattened)\n",
        "    X = X_normalized.reshape(original_shape)\n",
        "\n",
        "    return X, y\n",
        "\n",
        "# Example usage\n",
        "X_p1, y_p1 = load_and_preprocess('/content/drive/My Drive/Datathon 2024/Neurotech@Rice Datathon Challenge/Training/p00_n1_X.npy', '/content/drive/My Drive/Datathon 2024/Neurotech@Rice Datathon Challenge/Training/p00_n1_y.npy')\n",
        "X_p2, y_p2 = load_and_preprocess('/content/drive/My Drive/Datathon 2024/Neurotech@Rice Datathon Challenge/Training/p01_n1_X.npy', '/content/drive/My Drive/Datathon 2024/Neurotech@Rice Datathon Challenge/Training/p01_n1_y.npy')\n",
        "# ... Load more datasets as required\n"
      ]
    },
    {
      "cell_type": "code",
      "execution_count": null,
      "metadata": {
        "id": "SFEYColw4wfy"
      },
      "outputs": [],
      "source": [
        "# Combine the data\n",
        "X_combined = np.concatenate([X_p1, X_p2], axis=0)  # Add more datasets as required\n",
        "y_combined = np.concatenate([y_p1, y_p2], axis=0)  # Similarly, concatenate the labels\n",
        "\n",
        "# Shuffle the combined data to ensure good mixing\n",
        "# It's important to shuffle both features and labels in unison\n",
        "perm = np.random.permutation(len(X_combined))\n",
        "X_combined = X_combined[perm]\n",
        "y_combined = y_combined[perm]"
      ]
    },
    {
      "cell_type": "code",
      "execution_count": null,
      "metadata": {
        "colab": {
          "base_uri": "https://localhost:8080/"
        },
        "id": "ZUW3n0iL6vOp",
        "outputId": "2dd4643a-e3a0-4c9f-c2a6-d63e945ad79a"
      },
      "outputs": [
        {
          "data": {
            "text/plain": [
              "(5452, 6, 3000)"
            ]
          },
          "execution_count": 18,
          "metadata": {},
          "output_type": "execute_result"
        }
      ],
      "source": [
        "X_combined.shape"
      ]
    },
    {
      "cell_type": "code",
      "execution_count": null,
      "metadata": {
        "colab": {
          "base_uri": "https://localhost:8080/",
          "height": 463
        },
        "id": "Y6AUgsTY1oVV",
        "outputId": "3b621f96-2957-4471-b029-4e8d9c6f6b0a"
      },
      "outputs": [
        {
          "name": "stdout",
          "output_type": "stream",
          "text": [
            "171/171 [==============================] - 5s 26ms/step - loss: 18.1216 - accuracy: 0.2621\n",
            "Test Loss: 18.121625900268555\n",
            "Test Accuracy: 0.26210564374923706\n",
            "171/171 [==============================] - 2s 14ms/step\n"
          ]
        },
        {
          "ename": "AxisError",
          "evalue": "axis 2 is out of bounds for array of dimension 1",
          "output_type": "error",
          "traceback": [
            "\u001b[0;31m---------------------------------------------------------------------------\u001b[0m",
            "\u001b[0;31mAxisError\u001b[0m                                 Traceback (most recent call last)",
            "\u001b[0;32m<ipython-input-15-6b6b6d0419b1>\u001b[0m in \u001b[0;36m<cell line: 14>\u001b[0;34m()\u001b[0m\n\u001b[1;32m     12\u001b[0m \u001b[0;31m# Predict the labels for the test set\u001b[0m\u001b[0;34m\u001b[0m\u001b[0;34m\u001b[0m\u001b[0m\n\u001b[1;32m     13\u001b[0m \u001b[0my_pred\u001b[0m \u001b[0;34m=\u001b[0m \u001b[0mmodel\u001b[0m\u001b[0;34m.\u001b[0m\u001b[0mpredict\u001b[0m\u001b[0;34m(\u001b[0m\u001b[0mX_combined\u001b[0m\u001b[0;34m)\u001b[0m\u001b[0;34m\u001b[0m\u001b[0;34m\u001b[0m\u001b[0m\n\u001b[0;32m---> 14\u001b[0;31m \u001b[0my_pred_classes\u001b[0m \u001b[0;34m=\u001b[0m \u001b[0mnp\u001b[0m\u001b[0;34m.\u001b[0m\u001b[0margmax\u001b[0m\u001b[0;34m(\u001b[0m\u001b[0my_combined\u001b[0m\u001b[0;34m,\u001b[0m \u001b[0maxis\u001b[0m\u001b[0;34m=\u001b[0m\u001b[0;36m2\u001b[0m\u001b[0;34m)\u001b[0m\u001b[0;34m\u001b[0m\u001b[0;34m\u001b[0m\u001b[0m\n\u001b[0m\u001b[1;32m     15\u001b[0m \u001b[0;34m\u001b[0m\u001b[0m\n\u001b[1;32m     16\u001b[0m \u001b[0;31m# Print classification report\u001b[0m\u001b[0;34m\u001b[0m\u001b[0;34m\u001b[0m\u001b[0m\n",
            "\u001b[0;32m/usr/local/lib/python3.10/dist-packages/numpy/core/overrides.py\u001b[0m in \u001b[0;36margmax\u001b[0;34m(*args, **kwargs)\u001b[0m\n",
            "\u001b[0;32m/usr/local/lib/python3.10/dist-packages/numpy/core/fromnumeric.py\u001b[0m in \u001b[0;36margmax\u001b[0;34m(a, axis, out, keepdims)\u001b[0m\n\u001b[1;32m   1214\u001b[0m     \"\"\"\n\u001b[1;32m   1215\u001b[0m     \u001b[0mkwds\u001b[0m \u001b[0;34m=\u001b[0m \u001b[0;34m{\u001b[0m\u001b[0;34m'keepdims'\u001b[0m\u001b[0;34m:\u001b[0m \u001b[0mkeepdims\u001b[0m\u001b[0;34m}\u001b[0m \u001b[0;32mif\u001b[0m \u001b[0mkeepdims\u001b[0m \u001b[0;32mis\u001b[0m \u001b[0;32mnot\u001b[0m \u001b[0mnp\u001b[0m\u001b[0;34m.\u001b[0m\u001b[0m_NoValue\u001b[0m \u001b[0;32melse\u001b[0m \u001b[0;34m{\u001b[0m\u001b[0;34m}\u001b[0m\u001b[0;34m\u001b[0m\u001b[0;34m\u001b[0m\u001b[0m\n\u001b[0;32m-> 1216\u001b[0;31m     \u001b[0;32mreturn\u001b[0m \u001b[0m_wrapfunc\u001b[0m\u001b[0;34m(\u001b[0m\u001b[0ma\u001b[0m\u001b[0;34m,\u001b[0m \u001b[0;34m'argmax'\u001b[0m\u001b[0;34m,\u001b[0m \u001b[0maxis\u001b[0m\u001b[0;34m=\u001b[0m\u001b[0maxis\u001b[0m\u001b[0;34m,\u001b[0m \u001b[0mout\u001b[0m\u001b[0;34m=\u001b[0m\u001b[0mout\u001b[0m\u001b[0;34m,\u001b[0m \u001b[0;34m**\u001b[0m\u001b[0mkwds\u001b[0m\u001b[0;34m)\u001b[0m\u001b[0;34m\u001b[0m\u001b[0;34m\u001b[0m\u001b[0m\n\u001b[0m\u001b[1;32m   1217\u001b[0m \u001b[0;34m\u001b[0m\u001b[0m\n\u001b[1;32m   1218\u001b[0m \u001b[0;34m\u001b[0m\u001b[0m\n",
            "\u001b[0;32m/usr/local/lib/python3.10/dist-packages/numpy/core/fromnumeric.py\u001b[0m in \u001b[0;36m_wrapfunc\u001b[0;34m(obj, method, *args, **kwds)\u001b[0m\n\u001b[1;32m     55\u001b[0m \u001b[0;34m\u001b[0m\u001b[0m\n\u001b[1;32m     56\u001b[0m     \u001b[0;32mtry\u001b[0m\u001b[0;34m:\u001b[0m\u001b[0;34m\u001b[0m\u001b[0;34m\u001b[0m\u001b[0m\n\u001b[0;32m---> 57\u001b[0;31m         \u001b[0;32mreturn\u001b[0m \u001b[0mbound\u001b[0m\u001b[0;34m(\u001b[0m\u001b[0;34m*\u001b[0m\u001b[0margs\u001b[0m\u001b[0;34m,\u001b[0m \u001b[0;34m**\u001b[0m\u001b[0mkwds\u001b[0m\u001b[0;34m)\u001b[0m\u001b[0;34m\u001b[0m\u001b[0;34m\u001b[0m\u001b[0m\n\u001b[0m\u001b[1;32m     58\u001b[0m     \u001b[0;32mexcept\u001b[0m \u001b[0mTypeError\u001b[0m\u001b[0;34m:\u001b[0m\u001b[0;34m\u001b[0m\u001b[0;34m\u001b[0m\u001b[0m\n\u001b[1;32m     59\u001b[0m         \u001b[0;31m# A TypeError occurs if the object does have such a method in its\u001b[0m\u001b[0;34m\u001b[0m\u001b[0;34m\u001b[0m\u001b[0m\n",
            "\u001b[0;31mAxisError\u001b[0m: axis 2 is out of bounds for array of dimension 1"
          ]
        }
      ],
      "source": [
        "X_test = np.load('/content/drive/My Drive/Datathon 2024/Neurotech@Rice Datathon Challenge/Training/p00_n2_X.npy')\n",
        "y_test = np.load('/content/drive/My Drive/Datathon 2024/Neurotech@Rice Datathon Challenge/Training/p00_n2_y.npy')\n",
        "\n",
        "# Evaluate the model\n",
        "test_loss, test_accuracy = model.evaluate(X_test, y_test)\n",
        "print(f\"Test Loss: {test_loss}\")\n",
        "print(f\"Test Accuracy: {test_accuracy}\")\n",
        "\n",
        "# For detailed classification metrics\n",
        "from sklearn.metrics import classification_report, confusion_matrix\n",
        "\n",
        "# Predict the labels for the test set\n",
        "y_pred = model.predict(X_test)\n",
        "y_pred_classes = np.argmax(y_test, axis=1)\n",
        "\n",
        "# Print classification report\n",
        "print(classification_report(y_test, y_pred_classes))\n",
        "\n",
        "# Print confusion matrix\n",
        "print(confusion_matrix(y_test, y_pred_classes))"
      ]
    },
    {
      "cell_type": "code",
      "execution_count": null,
      "metadata": {
        "colab": {
          "base_uri": "https://localhost:8080/",
          "height": 564
        },
        "id": "2aTN_-8E2NO8",
        "outputId": "b4bac777-ce91-4279-ba75-21970a8a7ad4"
      },
      "outputs": [
        {
          "data": {
            "image/png": "[encoded data removed]",
            "text/plain": [
              "<Figure size 1500x600 with 1 Axes>"
            ]
          },
          "metadata": {},
          "output_type": "display_data"
        }
      ],
      "source": [
        "import matplotlib.pyplot as plt\n",
        "\n",
        "# Assuming y_pred_classes is your array of predicted sleep stages\n",
        "# And let's say you have an array of epoch numbers corresponding to these predictions\n",
        "epochs = range(len(y_pred_classes))\n",
        "\n",
        "# Create a line plot\n",
        "plt.figure(figsize=(15, 6))  # Set the figure size\n",
        "plt.plot(epochs, y_pred_classes, label='Predicted Sleep Stages', color='b')\n",
        "plt.xlabel('Epoch Number')\n",
        "plt.ylabel('Sleep Stage')\n",
        "plt.title('Predicted Sleep Stages over Epochs')\n",
        "plt.legend()\n",
        "plt.show()"
      ]
    },
    {
      "cell_type": "code",
      "execution_count": null,
      "metadata": {
        "id": "iUxpxUgj_eoh"
      },
      "outputs": [],
      "source": [
        "# Load data\n",
        "p00_n1_X = np.load('/content/drive/My Drive/Datathon 2024/Neurotech@Rice Datathon Challenge/Training [NEW]/p00_n1_NEW_X.npy')\n",
        "p00_n1_y = np.load('/content/drive/My Drive/Datathon 2024/Neurotech@Rice Datathon Challenge/Training [NEW]/p00_n1_NEW_y.npy')\n",
        "p01_n1_X = np.load('/content/drive/My Drive/Datathon 2024/Neurotech@Rice Datathon Challenge/Training [NEW]/p01_n1_NEW_X.npy')\n",
        "p01_n1_y = np.load('/content/drive/My Drive/Datathon 2024/Neurotech@Rice Datathon Challenge/Training [NEW]/p01_n1_NEW_y.npy')\n",
        "# p02_n1_X = np.load('/content/drive/My Drive/Datathon 2024/Neurotech@Rice Datathon Challenge/Training [NEW]/p02_n1_NEW_X.npy')\n",
        "# p02_n1_y = np.load('/content/drive/My Drive/Datathon 2024/Neurotech@Rice Datathon Challenge/Training/p02_n1_y.npy')\n",
        "# p03_n1_X = np.load('/content/drive/My Drive/Datathon 2024/Neurotech@Rice Datathon Challenge/Training/p03_n1_X.npy')\n",
        "# p03_n1_y = np.load('/content/drive/My Drive/Datathon 2024/Neurotech@Rice Datathon Challenge/Training/p03_n1_y.npy')\n",
        "# p04_n1_X = np.load('/content/drive/My Drive/Datathon 2024/Neurotech@Rice Datathon Challenge/Training/p04_n1_X.npy')\n",
        "# p04_n1_y = np.load('/content/drive/My Drive/Datathon 2024/Neurotech@Rice Datathon Challenge/Training/p04_n1_y.npy')\n",
        "# p05_n1_X = np.load('/content/drive/My Drive/Datathon 2024/Neurotech@Rice Datathon Challenge/Training/p05_n1_X.npy')\n",
        "# p05_n1_y = np.load('/content/drive/My Drive/Datathon 2024/Neurotech@Rice Datathon Challenge/Training/p05_n1_y.npy')\n",
        "# p06_n1_X = np.load('/content/drive/My Drive/Datathon 2024/Neurotech@Rice Datathon Challenge/Training/p06_n1_X.npy')\n",
        "# p06_n1_y = np.load('/content/drive/My Drive/Datathon 2024/Neurotech@Rice Datathon Challenge/Training/p06_n1_y.npy')\n",
        "# p07_n1_X = np.load('/content/drive/My Drive/Datathon 2024/Neurotech@Rice Datathon Challenge/Training/p07_n1_X.npy')\n",
        "# p07_n1_y = np.load('/content/drive/My Drive/Datathon 2024/Neurotech@Rice Datathon Challenge/Training/p07_n1_y.npy')\n",
        "\n",
        "datasets = [(p00_n1_X[:, 3:6, :], p00_n1_y), (p01_n1_X[:, 3:6, :], p01_n1_y)]\n",
        "\n",
        "# datasets = [(p00_n1_X, p00_n1_y), (p01_n1_X, p01_n1_y), (p02_n1_X, p02_n1_y),(p03_n1_X, p03_n1_y),(p04_n1_X, p04_n1_y),(p05_n1_X, p05_n1_y),(p06_n1_X, p06_n1_y), (p07_n1_X, p07_n1_y)]"
      ]
    },
    {
      "cell_type": "code",
      "source": [
        "# # Assuming y_pred is the array of predicted sleep stages from your Random Forest model\n",
        "# # And assuming epochs is a sequence of epoch indices corresponding to y_pred\n",
        "# epochs = range(len(y_pred))\n",
        "\n",
        "# # Create a line plot\n",
        "# plt.figure(figsize=(15, 5))  # Set the figure size to be large enough to see details\n",
        "# plt.plot(epochs, y_pred, label='Predicted Sleep Stages', color='blue', marker='o', linestyle='-', markersize=3)\n",
        "# plt.xlabel('Epoch Number')\n",
        "# plt.ylabel('Predicted Sleep Stage')\n",
        "# plt.title('Predicted Sleep Stages over Epochs')\n",
        "# plt.legend()\n",
        "# plt.grid(True)  # Optional: Add grid for better readability\n",
        "# plt.tight_layout()  # Adjust the padding of the plot\n",
        "# plt.show()\n",
        "# Assuming y_pred_classes is your array of predicted sleep stages\n",
        "# And let's say you have an array of epoch numbers corresponding to these predictions\n",
        "epochs = range(len(y_pred))\n",
        "\n",
        "# Create a line plot\n",
        "plt.figure(figsize=(15, 6))  # Set the figure size\n",
        "plt.plot(epochs, y_pred, label='Predicted Sleep Stages', color='b')\n",
        "plt.xlabel('Epoch Number')\n",
        "plt.ylabel('Sleep Stage')\n",
        "plt.title('Predicted Sleep Stages over Epochs')\n",
        "plt.legend()\n",
        "plt.show()"
      ],
      "metadata": {
        "colab": {
          "base_uri": "https://localhost:8080/",
          "height": 564
        },
        "id": "oKt2EbN7jI_w",
        "outputId": "1a94745d-a180-4aba-b2f7-c934794ad008"
      },
      "execution_count": null,
      "outputs": [
        {
          "output_type": "display_data",
          "data": {
            "text/plain": [
              "<Figure size 1500x600 with 1 Axes>"
            ],
            "image/png": "[encoded data removed]"
          },
          "metadata": {}
        }
      ]
    },
    {
      "cell_type": "code",
      "execution_count": null,
      "metadata": {
        "colab": {
          "base_uri": "https://localhost:8080/"
        },
        "id": "JSuxXT6O_oIu",
        "outputId": "141027f0-fb14-40fc-c0cb-051381a42380"
      },
      "outputs": [
        {
          "output_type": "stream",
          "name": "stdout",
          "text": [
            "Training on dataset 1...\n",
            "Epoch 1/10\n",
            "23/23 [==============================] - 2s 34ms/step - loss: 186.7227 - accuracy: 0.3864 - val_loss: 185.5061 - val_accuracy: 0.2983\n",
            "Epoch 2/10\n",
            "23/23 [==============================] - 1s 22ms/step - loss: 87.3526 - accuracy: 0.5069 - val_loss: 115.5930 - val_accuracy: 0.4807\n",
            "Epoch 3/10\n",
            "23/23 [==============================] - 0s 21ms/step - loss: 63.9424 - accuracy: 0.5222 - val_loss: 141.1443 - val_accuracy: 0.2597\n",
            "Epoch 4/10\n",
            "23/23 [==============================] - 0s 18ms/step - loss: 57.1452 - accuracy: 0.5388 - val_loss: 219.5644 - val_accuracy: 0.4696\n",
            "Epoch 5/10\n",
            "23/23 [==============================] - 1s 22ms/step - loss: 40.8802 - accuracy: 0.5554 - val_loss: 88.0346 - val_accuracy: 0.4807\n",
            "Epoch 6/10\n",
            "23/23 [==============================] - 1s 24ms/step - loss: 29.7314 - accuracy: 0.5997 - val_loss: 105.0352 - val_accuracy: 0.4475\n",
            "Epoch 7/10\n",
            "23/23 [==============================] - 0s 21ms/step - loss: 26.5465 - accuracy: 0.6150 - val_loss: 97.0635 - val_accuracy: 0.4586\n",
            "Epoch 8/10\n",
            "23/23 [==============================] - 0s 18ms/step - loss: 20.5856 - accuracy: 0.6066 - val_loss: 103.4349 - val_accuracy: 0.3315\n",
            "Epoch 9/10\n",
            "23/23 [==============================] - 1s 23ms/step - loss: 20.3074 - accuracy: 0.5886 - val_loss: 89.4541 - val_accuracy: 0.4972\n",
            "Epoch 10/10\n",
            "23/23 [==============================] - 0s 22ms/step - loss: 16.6283 - accuracy: 0.6413 - val_loss: 94.8134 - val_accuracy: 0.5249\n",
            "29/29 [==============================] - 0s 6ms/step - loss: 28.6107 - accuracy: 0.6811\n",
            "Dataset 1 - Test Loss: 28.610719680786133, Test Accuracy: 0.6810631155967712\n",
            "Training on dataset 2...\n",
            "Epoch 1/10\n",
            "38/38 [==============================] - 2s 26ms/step - loss: 595.2866 - accuracy: 0.5937 - val_loss: 460.2912 - val_accuracy: 0.7252\n",
            "Epoch 2/10\n",
            "38/38 [==============================] - 1s 21ms/step - loss: 435.0642 - accuracy: 0.6534 - val_loss: 298.8565 - val_accuracy: 0.7517\n",
            "Epoch 3/10\n",
            "38/38 [==============================] - 1s 21ms/step - loss: 294.5089 - accuracy: 0.6633 - val_loss: 293.8551 - val_accuracy: 0.6722\n",
            "Epoch 4/10\n",
            "38/38 [==============================] - 1s 30ms/step - loss: 279.2155 - accuracy: 0.6882 - val_loss: 310.6909 - val_accuracy: 0.6921\n",
            "Epoch 5/10\n",
            "38/38 [==============================] - 1s 31ms/step - loss: 234.5674 - accuracy: 0.7023 - val_loss: 259.2774 - val_accuracy: 0.6623\n",
            "Epoch 6/10\n",
            "38/38 [==============================] - 1s 30ms/step - loss: 184.6076 - accuracy: 0.6932 - val_loss: 248.9482 - val_accuracy: 0.6954\n",
            "Epoch 7/10\n",
            "38/38 [==============================] - 1s 32ms/step - loss: 158.0679 - accuracy: 0.7131 - val_loss: 194.9032 - val_accuracy: 0.6490\n",
            "Epoch 8/10\n",
            "38/38 [==============================] - 1s 32ms/step - loss: 122.3000 - accuracy: 0.7463 - val_loss: 225.6273 - val_accuracy: 0.7086\n",
            "Epoch 9/10\n",
            "38/38 [==============================] - 1s 32ms/step - loss: 130.8023 - accuracy: 0.7388 - val_loss: 306.5513 - val_accuracy: 0.5596\n",
            "Epoch 10/10\n",
            "38/38 [==============================] - 1s 18ms/step - loss: 135.9319 - accuracy: 0.7338 - val_loss: 185.4299 - val_accuracy: 0.6887\n",
            "48/48 [==============================] - 0s 5ms/step - loss: 99.7276 - accuracy: 0.7308\n",
            "Dataset 2 - Test Loss: 99.72755432128906, Test Accuracy: 0.7307692170143127\n"
          ]
        }
      ],
      "source": [
        "for i, (X_downsampled, y_downsampled) in enumerate(datasets):\n",
        "    print(f\"Training on dataset {i+1}...\")\n",
        "    model = create_model()\n",
        "\n",
        "    # Train the model\n",
        "    model.fit(X_downsampled, y_downsampled, epochs=10, batch_size=32, validation_split=0.2)\n",
        "\n",
        "    # Evaluate the model\n",
        "    test_loss, test_accuracy = model.evaluate(X_downsampled, y_downsampled)\n",
        "    print(f\"Dataset {i+1} - Test Loss: {test_loss}, Test Accuracy: {test_accuracy}\")\n"
      ]
    },
    {
      "cell_type": "code",
      "execution_count": null,
      "metadata": {
        "colab": {
          "base_uri": "https://localhost:8080/"
        },
        "id": "VunhmKt1AI2H",
        "outputId": "8d7bb832-7f12-463b-f162-58ce00ae9104"
      },
      "outputs": [
        {
          "output_type": "stream",
          "name": "stdout",
          "text": [
            "86/86 [==============================] - 1s 7ms/step - loss: 105.7134 - accuracy: 0.6266\n",
            "Test Loss: 105.71341705322266\n",
            "Test Accuracy: 0.6266471743583679\n",
            "86/86 [==============================] - 1s 9ms/step\n",
            "              precision    recall  f1-score   support\n",
            "\n",
            "         1.0       0.65      0.95      0.77      1739\n",
            "         2.0       0.00      0.00      0.00        19\n",
            "         3.0       0.44      0.09      0.15       567\n",
            "         4.0       0.05      0.01      0.02        89\n",
            "         5.0       0.00      0.00      0.00        83\n",
            "         6.0       0.04      0.00      0.01       235\n",
            "\n",
            "    accuracy                           0.63      2732\n",
            "   macro avg       0.20      0.18      0.16      2732\n",
            "weighted avg       0.51      0.63      0.52      2732\n",
            "\n",
            "[[1659    4   54    9    2   11]\n",
            " [  18    0    0    1    0    0]\n",
            " [ 487    9   51    7    0   13]\n",
            " [  77    0   10    1    0    1]\n",
            " [  81    0    0    2    0    0]\n",
            " [ 233    0    1    0    0    1]]\n"
          ]
        }
      ],
      "source": [
        "X_test = np.load('/content/drive/My Drive/Datathon 2024/Neurotech@Rice Datathon Challenge/Training [NEW]/p09_n1_NEW_X.npy')\n",
        "y_test = np.load('/content/drive/My Drive/Datathon 2024/Neurotech@Rice Datathon Challenge/Training [NEW]/p09_n1_NEW_y.npy')\n",
        "\n",
        "# Evaluate the model on the test set\n",
        "test_loss, test_accuracy = model.evaluate(X_test[:, 3:6, :], y_test)\n",
        "print(f\"Test Loss: {test_loss}\")\n",
        "print(f\"Test Accuracy: {test_accuracy}\")\n",
        "\n",
        "# Predict the labels for the test set\n",
        "y_pred = model.predict(X_test[:, 3:6, :])\n",
        "y_pred_classes = np.argmax(y_pred, axis=1)  # Corrected line\n",
        "\n",
        "# Print classification report\n",
        "print(classification_report(y_test, y_pred_classes))\n",
        "\n",
        "# Print confusion matrix\n",
        "print(confusion_matrix(y_test, y_pred_classes))"
      ]
    },
    {
      "cell_type": "code",
      "source": [
        "import matplotlib.pyplot as plt\n",
        "\n",
        "# Assuming y_pred_classes is your array of predicted sleep stages\n",
        "# And let's say you have an array of epoch numbers corresponding to these predictions\n",
        "epochs = range(len(y_pred_classes))\n",
        "\n",
        "# Create a line plot\n",
        "plt.figure(figsize=(15, 6))  # Set the figure size\n",
        "plt.plot(epochs, y_pred_classes, label='Predicted Sleep Stages', color='b')\n",
        "plt.xlabel('Epoch Number')\n",
        "plt.ylabel('Sleep Stage')\n",
        "plt.title('Predicted Sleep Stages over Epochs')\n",
        "plt.legend()\n",
        "plt.show()"
      ],
      "metadata": {
        "colab": {
          "base_uri": "https://localhost:8080/",
          "height": 564
        },
        "id": "AYBnJxVkmeSY",
        "outputId": "7d016cef-3eb3-48d2-dad4-5c0250a198eb"
      },
      "execution_count": null,
      "outputs": [
        {
          "output_type": "display_data",
          "data": {
            "text/plain": [
              "<Figure size 1500x600 with 1 Axes>"
            ],
            "image/png": "[encoded data removed]"
          },
          "metadata": {}
        }
      ]
    },
    {
      "cell_type": "code",
      "source": [
        "# Load data\n",
        "p00_n1_X = np.load('/content/drive/My Drive/Datathon 2024/Neurotech@Rice Datathon Challenge/Training/p00_n1_X.npy')\n",
        "p00_n1_y = np.load('/content/drive/My Drive/Datathon 2024/Neurotech@Rice Datathon Challenge/Training/p00_n1_y.npy')\n",
        "p01_n1_X = np.load('/content/drive/My Drive/Datathon 2024/Neurotech@Rice Datathon Challenge/Training/p01_n1_X.npy')\n",
        "p01_n1_y = np.load('/content/drive/My Drive/Datathon 2024/Neurotech@Rice Datathon Challenge/Training/p01_n1_y.npy')\n",
        "\n",
        "datasets = [(p00_n1_X, p00_n1_y), (p01_n1_X, p01_n1_y)]"
      ],
      "metadata": {
        "id": "JJivb-zxgdzq"
      },
      "execution_count": null,
      "outputs": []
    },
    {
      "cell_type": "code",
      "execution_count": null,
      "metadata": {
        "colab": {
          "base_uri": "https://localhost:8080/"
        },
        "id": "SL4RCEdsIhpy",
        "outputId": "5f2b3a2d-270d-48d8-b263-f3ac38b1261d"
      },
      "outputs": [
        {
          "output_type": "stream",
          "name": "stdout",
          "text": [
            "Training on dataset 1...\n",
            "Accuracy on dataset 1.0\n",
            "              precision    recall  f1-score   support\n",
            "\n",
            "         1.0       1.00      1.00      1.00      1997\n",
            "         2.0       1.00      1.00      1.00        58\n",
            "         3.0       1.00      1.00      1.00       250\n",
            "         4.0       1.00      1.00      1.00       101\n",
            "         5.0       1.00      1.00      1.00       119\n",
            "         6.0       1.00      1.00      1.00       125\n",
            "\n",
            "    accuracy                           1.00      2650\n",
            "   macro avg       1.00      1.00      1.00      2650\n",
            "weighted avg       1.00      1.00      1.00      2650\n",
            "\n",
            "Training on dataset 2...\n",
            "Accuracy on dataset 1.0\n",
            "              precision    recall  f1-score   support\n",
            "\n",
            "         1.0       1.00      1.00      1.00      1856\n",
            "         2.0       1.00      1.00      1.00       109\n",
            "         3.0       1.00      1.00      1.00       562\n",
            "         4.0       1.00      1.00      1.00        96\n",
            "         5.0       1.00      1.00      1.00         9\n",
            "         6.0       1.00      1.00      1.00       170\n",
            "\n",
            "    accuracy                           1.00      2802\n",
            "   macro avg       1.00      1.00      1.00      2802\n",
            "weighted avg       1.00      1.00      1.00      2802\n",
            "\n"
          ]
        }
      ],
      "source": [
        "from sklearn.ensemble import RandomForestClassifier\n",
        "from sklearn.metrics import classification_report, accuracy_score\n",
        "for i, (X, y) in enumerate(datasets):\n",
        "    print(f\"Training on dataset {i+1}...\")\n",
        "    # Flatten the X array to 2D for Random Forest\n",
        "    X_flattened = X.reshape(X.shape[0], -1)\n",
        "\n",
        "    # Initialize the Random Forest Classifier\n",
        "    rf_clf = RandomForestClassifier(n_estimators=100, random_state=42)\n",
        "\n",
        "    # Train the classifier\n",
        "    rf_clf.fit(X_flattened, y)\n",
        "\n",
        "    # Predict on the same dataset (usually you would have a separate test set)\n",
        "    y_pred = rf_clf.predict(X_flattened)\n",
        "\n",
        "    # Print accuracy and classification report\n",
        "    accuracy = accuracy_score(y, y_pred)\n",
        "    print(f'Accuracy on dataset {accuracy}')\n",
        "    print(classification_report(y, y_pred))\n"
      ]
    },
    {
      "cell_type": "code",
      "source": [
        "from sklearn.metrics import classification_report, confusion_matrix, accuracy_score\n",
        "\n",
        "X_test = np.load('/content/drive/My Drive/Datathon 2024/Neurotech@Rice Datathon Challenge/Training/p00_n2_X.npy')\n",
        "y_test = np.load('/content/drive/My Drive/Datathon 2024/Neurotech@Rice Datathon Challenge/Training/p00_n2_y.npy')\n",
        "\n",
        "# Preprocess test data (the same way you preprocessed training data)\n",
        "# If your test data is 3D (N x Channels x Time), you need to flatten it to 2D (N x Features)\n",
        "X_test_flattened = X_test.reshape(X_test.shape[0], -1)\n",
        "\n",
        "# Predict using the trained model\n",
        "y_pred = rf_clf.predict(X_test_flattened)\n",
        "\n",
        "# Evaluate the predictions\n",
        "accuracy = accuracy_score(y_test, y_pred)\n",
        "print(f'Accuracy: {accuracy}')\n",
        "print(classification_report(y_test, y_pred))\n",
        "print(confusion_matrix(y_test, y_pred))"
      ],
      "metadata": {
        "colab": {
          "base_uri": "https://localhost:8080/"
        },
        "id": "dmRozx7sh8xY",
        "outputId": "079d17b4-165d-4db7-d371-c48334604bea"
      },
      "execution_count": null,
      "outputs": [
        {
          "output_type": "stream",
          "name": "stdout",
          "text": [
            "Accuracy: 0.7088339222614841\n",
            "              precision    recall  f1-score   support\n",
            "\n",
            "         1.0       0.86      0.95      0.90      1885\n",
            "         2.0       0.00      0.00      0.00        59\n",
            "         3.0       0.28      0.37      0.32       373\n",
            "         4.0       0.00      0.00      0.00        94\n",
            "         5.0       0.00      0.00      0.00       204\n",
            "         6.0       0.32      0.39      0.35       215\n",
            "\n",
            "    accuracy                           0.71      2830\n",
            "   macro avg       0.24      0.28      0.26      2830\n",
            "weighted avg       0.63      0.71      0.67      2830\n",
            "\n",
            "[[1785    0   89    0    0   11]\n",
            " [  13    0   27    0    0   19]\n",
            " [ 115    0  137    0    0  121]\n",
            " [  42    0   40    0    0   12]\n",
            " [  64    0  128    0    0   12]\n",
            " [  59    0   72    0    0   84]]\n"
          ]
        },
        {
          "output_type": "stream",
          "name": "stderr",
          "text": [
            "/usr/local/lib/python3.10/dist-packages/sklearn/metrics/_classification.py:1344: UndefinedMetricWarning: Precision and F-score are ill-defined and being set to 0.0 in labels with no predicted samples. Use `zero_division` parameter to control this behavior.\n",
            "  _warn_prf(average, modifier, msg_start, len(result))\n",
            "/usr/local/lib/python3.10/dist-packages/sklearn/metrics/_classification.py:1344: UndefinedMetricWarning: Precision and F-score are ill-defined and being set to 0.0 in labels with no predicted samples. Use `zero_division` parameter to control this behavior.\n",
            "  _warn_prf(average, modifier, msg_start, len(result))\n",
            "/usr/local/lib/python3.10/dist-packages/sklearn/metrics/_classification.py:1344: UndefinedMetricWarning: Precision and F-score are ill-defined and being set to 0.0 in labels with no predicted samples. Use `zero_division` parameter to control this behavior.\n",
            "  _warn_prf(average, modifier, msg_start, len(result))\n"
          ]
        }
      ]
    },
    {
      "cell_type": "code",
      "execution_count": null,
      "metadata": {
        "colab": {
          "base_uri": "https://localhost:8080/",
          "height": 564
        },
        "id": "e6AqXq1PA9mu",
        "outputId": "18676e38-b424-4a1d-d6c9-8a6b7d2dc1ba"
      },
      "outputs": [
        {
          "data": {
            "image/png": "[encoded data removed]",
            "text/plain": [
              "<Figure size 1500x600 with 1 Axes>"
            ]
          },
          "metadata": {},
          "output_type": "display_data"
        }
      ],
      "source": [
        "import matplotlib.pyplot as plt\n",
        "\n",
        "# Assuming y_pred_classes is your array of predicted sleep stages\n",
        "# And let's say you have an array of epoch numbers corresponding to these predictions\n",
        "epochs = range(len(y_pred_classes))\n",
        "\n",
        "# Create a line plot\n",
        "plt.figure(figsize=(15, 6))  # Set the figure size\n",
        "plt.plot(epochs, y_pred_classes, label='Predicted Sleep Stages', color='b')\n",
        "plt.xlabel('Epoch Number')\n",
        "plt.ylabel('Sleep Stage')\n",
        "plt.title('Predicted Sleep Stages over Epochs')\n",
        "plt.legend()\n",
        "plt.show()"
      ]
    },
    {
      "cell_type": "code",
      "execution_count": null,
      "metadata": {
        "colab": {
          "base_uri": "https://localhost:8080/"
        },
        "id": "0vPHwRw0uQip",
        "outputId": "e1ff80e7-8acc-4552-9609-0c6616af9e47"
      },
      "outputs": [
        {
          "name": "stdout",
          "output_type": "stream",
          "text": [
            "Epoch 1/30\n",
            "83/83 [==============================] - 2s 14ms/step - loss: 1.2969 - accuracy: 0.7404\n",
            "Epoch 2/30\n",
            "83/83 [==============================] - 1s 14ms/step - loss: 0.8307 - accuracy: 0.7766\n",
            "Epoch 3/30\n",
            "83/83 [==============================] - 2s 21ms/step - loss: 0.7636 - accuracy: 0.7823\n",
            "Epoch 4/30\n",
            "83/83 [==============================] - 2s 20ms/step - loss: 0.7281 - accuracy: 0.7857\n",
            "Epoch 5/30\n",
            "83/83 [==============================] - 2s 21ms/step - loss: 0.7055 - accuracy: 0.7913\n",
            "Epoch 6/30\n",
            "83/83 [==============================] - 1s 18ms/step - loss: 0.7071 - accuracy: 0.7925\n",
            "Epoch 7/30\n",
            "83/83 [==============================] - 1s 14ms/step - loss: 0.6943 - accuracy: 0.7977\n",
            "Epoch 8/30\n",
            "83/83 [==============================] - 1s 14ms/step - loss: 0.6812 - accuracy: 0.8000\n",
            "Epoch 9/30\n",
            "83/83 [==============================] - 1s 14ms/step - loss: 0.6816 - accuracy: 0.7989\n",
            "Epoch 10/30\n",
            "83/83 [==============================] - 1s 14ms/step - loss: 0.6815 - accuracy: 0.7977\n",
            "Epoch 11/30\n",
            "83/83 [==============================] - 1s 14ms/step - loss: 0.6795 - accuracy: 0.8019\n",
            "Epoch 12/30\n",
            "83/83 [==============================] - 1s 13ms/step - loss: 0.6690 - accuracy: 0.8011\n",
            "Epoch 13/30\n",
            "83/83 [==============================] - 1s 14ms/step - loss: 0.6708 - accuracy: 0.8053\n",
            "Epoch 14/30\n",
            "83/83 [==============================] - 1s 13ms/step - loss: 0.6679 - accuracy: 0.8034\n",
            "Epoch 15/30\n",
            "83/83 [==============================] - 2s 18ms/step - loss: 0.6647 - accuracy: 0.8023\n",
            "Epoch 16/30\n",
            "83/83 [==============================] - 2s 20ms/step - loss: 0.6650 - accuracy: 0.8042\n",
            "Epoch 17/30\n",
            "83/83 [==============================] - 2s 21ms/step - loss: 0.6678 - accuracy: 0.8011\n",
            "Epoch 18/30\n",
            "83/83 [==============================] - 2s 20ms/step - loss: 0.6635 - accuracy: 0.8034\n",
            "Epoch 19/30\n",
            "83/83 [==============================] - 1s 14ms/step - loss: 0.6668 - accuracy: 0.7996\n",
            "Epoch 20/30\n",
            "83/83 [==============================] - 1s 14ms/step - loss: 0.6672 - accuracy: 0.8072\n",
            "Epoch 21/30\n",
            "83/83 [==============================] - 1s 14ms/step - loss: 0.7406 - accuracy: 0.7917\n",
            "Epoch 22/30\n",
            "83/83 [==============================] - 1s 14ms/step - loss: 0.6895 - accuracy: 0.8008\n",
            "Epoch 23/30\n",
            "83/83 [==============================] - 1s 14ms/step - loss: 0.6768 - accuracy: 0.8004\n",
            "Epoch 24/30\n",
            "83/83 [==============================] - 1s 14ms/step - loss: 0.6613 - accuracy: 0.8079\n",
            "Epoch 25/30\n",
            "83/83 [==============================] - 1s 14ms/step - loss: 0.6559 - accuracy: 0.8102\n",
            "Epoch 26/30\n",
            "83/83 [==============================] - 1s 14ms/step - loss: 0.6665 - accuracy: 0.8091\n",
            "Epoch 27/30\n",
            "83/83 [==============================] - 1s 17ms/step - loss: 0.6623 - accuracy: 0.8075\n",
            "Epoch 28/30\n",
            "83/83 [==============================] - 2s 20ms/step - loss: 0.6580 - accuracy: 0.8064\n",
            "Epoch 29/30\n",
            "83/83 [==============================] - 2s 21ms/step - loss: 0.6502 - accuracy: 0.8106\n",
            "Epoch 30/30\n",
            "83/83 [==============================] - 2s 21ms/step - loss: 0.6475 - accuracy: 0.8136\n",
            "Epoch 1/30\n",
            "89/89 [==============================] - 1s 14ms/step - loss: 1.0282 - accuracy: 0.7247\n",
            "Epoch 2/30\n",
            "89/89 [==============================] - 1s 14ms/step - loss: 0.8692 - accuracy: 0.7431\n",
            "Epoch 3/30\n",
            "89/89 [==============================] - 1s 14ms/step - loss: 0.8361 - accuracy: 0.7551\n",
            "Epoch 4/30\n",
            "89/89 [==============================] - 1s 14ms/step - loss: 0.8244 - accuracy: 0.7625\n",
            "Epoch 5/30\n",
            "89/89 [==============================] - 1s 14ms/step - loss: 0.8125 - accuracy: 0.7640\n",
            "Epoch 6/30\n",
            "89/89 [==============================] - 1s 14ms/step - loss: 0.7870 - accuracy: 0.7746\n",
            "Epoch 7/30\n",
            "89/89 [==============================] - 1s 14ms/step - loss: 0.7818 - accuracy: 0.7763\n",
            "Epoch 8/30\n",
            "89/89 [==============================] - 1s 16ms/step - loss: 0.7764 - accuracy: 0.7799\n",
            "Epoch 9/30\n",
            "89/89 [==============================] - 2s 20ms/step - loss: 0.7752 - accuracy: 0.7788\n",
            "Epoch 10/30\n",
            "89/89 [==============================] - 2s 21ms/step - loss: 0.7644 - accuracy: 0.7816\n",
            "Epoch 11/30\n",
            "89/89 [==============================] - 2s 20ms/step - loss: 0.7590 - accuracy: 0.7852\n",
            "Epoch 12/30\n",
            "89/89 [==============================] - 1s 14ms/step - loss: 0.7564 - accuracy: 0.7859\n",
            "Epoch 13/30\n",
            "89/89 [==============================] - 1s 14ms/step - loss: 0.7583 - accuracy: 0.7852\n",
            "Epoch 14/30\n",
            "89/89 [==============================] - 1s 14ms/step - loss: 0.7975 - accuracy: 0.7742\n",
            "Epoch 15/30\n",
            "89/89 [==============================] - 1s 14ms/step - loss: 0.7848 - accuracy: 0.7760\n",
            "Epoch 16/30\n",
            "89/89 [==============================] - 1s 13ms/step - loss: 0.7758 - accuracy: 0.7792\n",
            "Epoch 17/30\n",
            "89/89 [==============================] - 1s 13ms/step - loss: 0.7546 - accuracy: 0.7898\n",
            "Epoch 18/30\n",
            "89/89 [==============================] - 1s 14ms/step - loss: 0.7544 - accuracy: 0.7862\n",
            "Epoch 19/30\n",
            "89/89 [==============================] - 1s 13ms/step - loss: 0.7481 - accuracy: 0.7869\n",
            "Epoch 20/30\n",
            "89/89 [==============================] - 2s 21ms/step - loss: 0.7512 - accuracy: 0.7887\n",
            "Epoch 21/30\n",
            "89/89 [==============================] - 2s 21ms/step - loss: 0.7459 - accuracy: 0.7876\n",
            "Epoch 22/30\n",
            "89/89 [==============================] - 2s 21ms/step - loss: 0.7440 - accuracy: 0.7869\n",
            "Epoch 23/30\n",
            "89/89 [==============================] - 1s 15ms/step - loss: 0.7398 - accuracy: 0.7912\n",
            "Epoch 24/30\n",
            "89/89 [==============================] - 1s 14ms/step - loss: 0.7402 - accuracy: 0.7898\n",
            "Epoch 25/30\n",
            "89/89 [==============================] - 1s 13ms/step - loss: 0.7387 - accuracy: 0.7912\n",
            "Epoch 26/30\n",
            "89/89 [==============================] - 1s 14ms/step - loss: 0.7385 - accuracy: 0.7898\n",
            "Epoch 27/30\n",
            "89/89 [==============================] - 1s 14ms/step - loss: 0.7388 - accuracy: 0.7922\n",
            "Epoch 28/30\n",
            "89/89 [==============================] - 1s 13ms/step - loss: 0.7395 - accuracy: 0.7905\n",
            "Epoch 29/30\n",
            "89/89 [==============================] - 1s 13ms/step - loss: 0.7347 - accuracy: 0.7912\n",
            "Epoch 30/30\n",
            "89/89 [==============================] - 1s 13ms/step - loss: 0.7313 - accuracy: 0.7933\n"
          ]
        }
      ],
      "source": [
        "data_sets = [(p00_n1_X, p00_n1_y), (p00_n2_X, p00_n2_y)]\n",
        "\n",
        "model = Sequential()\n",
        "model.add(Conv1D(64, kernel_size=2, activation='relu', input_shape=(X.shape[1], X.shape[2])))\n",
        "model.add(MaxPooling1D(2))\n",
        "model.add(Conv1D(128, kernel_size=2, activation='relu'))\n",
        "model.add(GlobalAveragePooling1D())  # This layer will help in reducing the output to a one-dimensional array\n",
        "model.add(Dense(100, activation='relu'))\n",
        "model.add(Dense(7, activation='softmax'))  # Output layer for 7 classes\n",
        "\n",
        "model.compile(optimizer='adam', loss='sparse_categorical_crossentropy', metrics=['accuracy'])\n",
        "\n",
        "for X, y in data_sets:\n",
        "    # Normalize X\n",
        "    X = X / np.max(X)\n",
        "\n",
        "    # Train the model on each set\n",
        "    model.fit(X, y, epochs=30, batch_size=32)\n"
      ]
    },
    {
      "cell_type": "code",
      "execution_count": null,
      "metadata": {
        "colab": {
          "base_uri": "https://localhost:8080/"
        },
        "id": "bflMBW_ovarJ",
        "outputId": "6816588d-05e6-4b6a-b413-5d4bd6d2f790"
      },
      "outputs": [
        {
          "name": "stdout",
          "output_type": "stream",
          "text": [
            "86/86 [==============================] - 0s 5ms/step\n"
          ]
        }
      ],
      "source": [
        "predictions = model.predict(eval_b_X)"
      ]
    },
    {
      "cell_type": "code",
      "execution_count": null,
      "metadata": {
        "colab": {
          "base_uri": "https://localhost:8080/",
          "height": 35
        },
        "id": "N6WpClQybcqh",
        "outputId": "50fc9564-ee3d-4901-cb46-ecd6711b693d"
      },
      "outputs": [
        {
          "data": {
            "text/plain": [
              "array([1., 1., 1., ..., 1., 1., 1.])"
            ]
          },
          "metadata": {},
          "output_type": "display_data"
        }
      ],
      "source": [
        "p00_n1_X = train_arrays[0]\n",
        "display(p00_n1_X)"
      ]
    }
  ],
  "metadata": {
    "colab": {
      "provenance": []
    },
    "kernelspec": {
      "display_name": "Python 3",
      "name": "python3"
    },
    "language_info": {
      "name": "python"
    }
  },
  "nbformat": 4,
  "nbformat_minor": 0
}